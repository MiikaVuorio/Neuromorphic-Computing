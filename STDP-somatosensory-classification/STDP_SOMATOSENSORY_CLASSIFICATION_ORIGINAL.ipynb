{
 "cells": [
  {
   "cell_type": "markdown",
   "id": "d673b60f",
   "metadata": {},
   "source": [
    "# STDP spiking classifier for somatosensory data"
   ]
  },
  {
   "cell_type": "markdown",
   "id": "d60283f2",
   "metadata": {},
   "source": [
    "Increasing width of notebook, (not important, just preference)"
   ]
  },
  {
   "cell_type": "code",
   "execution_count": 38,
   "id": "1eb4b716",
   "metadata": {},
   "outputs": [
    {
     "data": {
      "text/html": [
       "<style>.container { width:75% !important; }</style>"
      ],
      "text/plain": [
       "<IPython.core.display.HTML object>"
      ]
     },
     "metadata": {},
     "output_type": "display_data"
    }
   ],
   "source": [
    "from IPython.display import display, HTML\n",
    "display(HTML(\"<style>.container { width:75% !important; }</style>\"))"
   ]
  },
  {
   "cell_type": "markdown",
   "id": "c2a6121e",
   "metadata": {},
   "source": [
    "## brian2 installation!"
   ]
  },
  {
   "cell_type": "code",
   "execution_count": 3,
   "id": "a5184247",
   "metadata": {
    "collapsed": true
   },
   "outputs": [
    {
     "name": "stdout",
     "output_type": "stream",
     "text": [
      "Requirement already satisfied: brian2 in c:\\users\\vuoriom3\\appdata\\local\\anaconda3\\lib\\site-packages (2.5.2)\n",
      "Requirement already satisfied: setuptools>=24.2 in c:\\users\\vuoriom3\\appdata\\local\\anaconda3\\lib\\site-packages (from brian2) (65.6.3)\n",
      "Requirement already satisfied: py-cpuinfo in c:\\users\\vuoriom3\\appdata\\local\\anaconda3\\lib\\site-packages (from brian2) (9.0.0)\n",
      "Requirement already satisfied: cython>=0.29 in c:\\users\\vuoriom3\\appdata\\roaming\\python\\python310\\site-packages (from brian2) (0.29.35)\n",
      "Requirement already satisfied: sympy>=1.2 in c:\\users\\vuoriom3\\appdata\\local\\anaconda3\\lib\\site-packages (from brian2) (1.11.1)\n",
      "Requirement already satisfied: pyparsing in c:\\users\\vuoriom3\\appdata\\local\\anaconda3\\lib\\site-packages (from brian2) (3.0.9)\n",
      "Requirement already satisfied: jinja2>=2.7 in c:\\users\\vuoriom3\\appdata\\local\\anaconda3\\lib\\site-packages (from brian2) (3.1.2)\n",
      "Requirement already satisfied: numpy>=1.21 in c:\\users\\vuoriom3\\appdata\\local\\anaconda3\\lib\\site-packages (from brian2) (1.25.0)\n",
      "Requirement already satisfied: packaging in c:\\users\\vuoriom3\\appdata\\local\\anaconda3\\lib\\site-packages (from brian2) (22.0)\n",
      "Requirement already satisfied: MarkupSafe>=2.0 in c:\\users\\vuoriom3\\appdata\\local\\anaconda3\\lib\\site-packages (from jinja2>=2.7->brian2) (2.1.1)\n",
      "Requirement already satisfied: mpmath>=0.19 in c:\\users\\vuoriom3\\appdata\\local\\anaconda3\\lib\\site-packages (from sympy>=1.2->brian2) (1.2.1)\n",
      "Requirement already satisfied: brian2tools in c:\\users\\vuoriom3\\appdata\\local\\anaconda3\\lib\\site-packages (0.3)\n",
      "Requirement already satisfied: brian2>=2.0 in c:\\users\\vuoriom3\\appdata\\local\\anaconda3\\lib\\site-packages (from brian2tools) (2.5.2)\n",
      "Requirement already satisfied: matplotlib>=1.3.1 in c:\\users\\vuoriom3\\appdata\\roaming\\python\\python310\\site-packages (from brian2tools) (3.7.1)\n",
      "Requirement already satisfied: setuptools in c:\\users\\vuoriom3\\appdata\\local\\anaconda3\\lib\\site-packages (from brian2tools) (65.6.3)\n",
      "Requirement already satisfied: libNeuroML>=0.2.18 in c:\\users\\vuoriom3\\appdata\\local\\anaconda3\\lib\\site-packages (from brian2tools) (0.5.3)\n",
      "Requirement already satisfied: pylems>=0.4.9 in c:\\users\\vuoriom3\\appdata\\local\\anaconda3\\lib\\site-packages (from brian2tools) (0.6.4)\n",
      "Requirement already satisfied: markdown-strings in c:\\users\\vuoriom3\\appdata\\local\\anaconda3\\lib\\site-packages (from brian2tools) (3.3.0)\n",
      "Requirement already satisfied: setuptools-scm in c:\\users\\vuoriom3\\appdata\\local\\anaconda3\\lib\\site-packages (from brian2tools) (7.1.0)\n",
      "Requirement already satisfied: cython>=0.29 in c:\\users\\vuoriom3\\appdata\\roaming\\python\\python310\\site-packages (from brian2>=2.0->brian2tools) (0.29.35)\n",
      "Requirement already satisfied: pyparsing in c:\\users\\vuoriom3\\appdata\\local\\anaconda3\\lib\\site-packages (from brian2>=2.0->brian2tools) (3.0.9)\n",
      "Requirement already satisfied: numpy>=1.21 in c:\\users\\vuoriom3\\appdata\\local\\anaconda3\\lib\\site-packages (from brian2>=2.0->brian2tools) (1.25.0)\n",
      "Requirement already satisfied: py-cpuinfo in c:\\users\\vuoriom3\\appdata\\local\\anaconda3\\lib\\site-packages (from brian2>=2.0->brian2tools) (9.0.0)\n",
      "Requirement already satisfied: packaging in c:\\users\\vuoriom3\\appdata\\local\\anaconda3\\lib\\site-packages (from brian2>=2.0->brian2tools) (22.0)\n",
      "Requirement already satisfied: sympy>=1.2 in c:\\users\\vuoriom3\\appdata\\local\\anaconda3\\lib\\site-packages (from brian2>=2.0->brian2tools) (1.11.1)\n",
      "Requirement already satisfied: jinja2>=2.7 in c:\\users\\vuoriom3\\appdata\\local\\anaconda3\\lib\\site-packages (from brian2>=2.0->brian2tools) (3.1.2)\n",
      "Requirement already satisfied: lxml in c:\\users\\vuoriom3\\appdata\\local\\anaconda3\\lib\\site-packages (from libNeuroML>=0.2.18->brian2tools) (4.9.1)\n",
      "Requirement already satisfied: networkx in c:\\users\\vuoriom3\\appdata\\local\\anaconda3\\lib\\site-packages (from libNeuroML>=0.2.18->brian2tools) (2.8.4)\n",
      "Requirement already satisfied: six in c:\\users\\vuoriom3\\appdata\\local\\anaconda3\\lib\\site-packages (from libNeuroML>=0.2.18->brian2tools) (1.16.0)\n",
      "Requirement already satisfied: tables>=3.3.0 in c:\\users\\vuoriom3\\appdata\\local\\anaconda3\\lib\\site-packages (from libNeuroML>=0.2.18->brian2tools) (3.7.0)\n",
      "Requirement already satisfied: pillow>=6.2.0 in c:\\users\\vuoriom3\\appdata\\local\\anaconda3\\lib\\site-packages (from matplotlib>=1.3.1->brian2tools) (9.4.0)\n",
      "Requirement already satisfied: python-dateutil>=2.7 in c:\\users\\vuoriom3\\appdata\\local\\anaconda3\\lib\\site-packages (from matplotlib>=1.3.1->brian2tools) (2.8.2)\n",
      "Requirement already satisfied: cycler>=0.10 in c:\\users\\vuoriom3\\appdata\\local\\anaconda3\\lib\\site-packages (from matplotlib>=1.3.1->brian2tools) (0.11.0)\n",
      "Requirement already satisfied: kiwisolver>=1.0.1 in c:\\users\\vuoriom3\\appdata\\local\\anaconda3\\lib\\site-packages (from matplotlib>=1.3.1->brian2tools) (1.4.4)\n",
      "Requirement already satisfied: fonttools>=4.22.0 in c:\\users\\vuoriom3\\appdata\\local\\anaconda3\\lib\\site-packages (from matplotlib>=1.3.1->brian2tools) (4.25.0)\n",
      "Requirement already satisfied: contourpy>=1.0.1 in c:\\users\\vuoriom3\\appdata\\local\\anaconda3\\lib\\site-packages (from matplotlib>=1.3.1->brian2tools) (1.0.5)\n",
      "Requirement already satisfied: tomli>=1.0.0 in c:\\users\\vuoriom3\\appdata\\local\\anaconda3\\lib\\site-packages (from setuptools-scm->brian2tools) (2.0.1)\n",
      "Requirement already satisfied: typing-extensions in c:\\users\\vuoriom3\\appdata\\local\\anaconda3\\lib\\site-packages (from setuptools-scm->brian2tools) (4.4.0)\n",
      "Requirement already satisfied: MarkupSafe>=2.0 in c:\\users\\vuoriom3\\appdata\\local\\anaconda3\\lib\\site-packages (from jinja2>=2.7->brian2>=2.0->brian2tools) (2.1.1)\n",
      "Requirement already satisfied: mpmath>=0.19 in c:\\users\\vuoriom3\\appdata\\local\\anaconda3\\lib\\site-packages (from sympy>=1.2->brian2>=2.0->brian2tools) (1.2.1)\n",
      "Requirement already satisfied: numexpr>=2.6.2 in c:\\users\\vuoriom3\\appdata\\local\\anaconda3\\lib\\site-packages (from tables>=3.3.0->libNeuroML>=0.2.18->brian2tools) (2.8.4)\n"
     ]
    }
   ],
   "source": [
    "!python -m pip install brian2\n",
    "!python -m pip install brian2tools"
   ]
  },
  {
   "cell_type": "markdown",
   "id": "e4ddf3d0",
   "metadata": {},
   "source": [
    "## Import statements"
   ]
  },
  {
   "cell_type": "code",
   "execution_count": 5,
   "id": "a7730307",
   "metadata": {},
   "outputs": [],
   "source": [
    "import numpy as np\n",
    "import matplotlib.cm as cmap\n",
    "import time\n",
    "import os.path\n",
    "import scipy \n",
    "import pickle\n",
    "import brian2 as b\n",
    "from struct import unpack\n",
    "from brian2 import *\n",
    "from brian2tools import *"
   ]
  },
  {
   "cell_type": "markdown",
   "id": "a712287e",
   "metadata": {},
   "source": [
    "## Functions"
   ]
  },
  {
   "cell_type": "code",
   "execution_count": 53,
   "id": "9ef0569b",
   "metadata": {},
   "outputs": [],
   "source": [
    "def get_labeled_touch_vec_data(first_file_num, last_file_num, data_path):\n",
    "    \n",
    "    N = last_file_num - (first_file_num - 1)\n",
    "    tot_N = N * 26\n",
    "    x = np.zeros((tot_N, 5))\n",
    "    y = np.zeros((tot_N, 1))\n",
    "    \n",
    "    pos = 0\n",
    "    for file_num in range(first_file_num, last_file_num+1):\n",
    "        file_name = 'Training' + str(file_num) + '.txt'\n",
    "        file_path = data_path + file_name\n",
    "        touch_vecs = open(file_path)\n",
    "        for letter in range(26):\n",
    "            y[letter + pos] = (ord(touch_vecs.read(1)) - 65)\n",
    "            \n",
    "            touch_vecs.read(1)\n",
    "        x[pos:(pos+26), :] = np.transpose(np.loadtxt(file_path, skiprows=1))\n",
    "        \n",
    "        pos += 26\n",
    "    data = {'data': x, 'label': y}\n",
    "    return data\n",
    "\n",
    "\n",
    "def plot_2d_input_weights(fig_num):\n",
    "    weights = get_2d_input_weights()\n",
    "    fig = plt.figure(fig_num, figsize = (18, 18))\n",
    "    im2 = plt.imshow(weights, interpolation = \"nearest\", vmin = 0, vmax = wmax_ee, cmap = cmap.get_cmap('hot_r'))\n",
    "    plt.colorbar(im2)\n",
    "    plt.title('weights of input connection')\n",
    "    fig.canvas.draw()\n",
    "    return (fig_num + 1), im2, fig\n",
    "\n",
    "\n",
    "\n",
    "\n",
    "\n",
    "\n",
    "\n",
    "\n",
    "### All this probably won't work because the input_dim is not sqrtable, oh well figure that out later\n",
    "def get_2d_input_weights():\n",
    "    weight_matrix = np.zeros((input_dim, n_e))\n",
    "    n_e_sqrt = int(np.sqrt(n_e))\n",
    "    n_in_sqrt = int(np.sqrt(input_dim))\n",
    "    num_values_col = n_e_sqrt*n_in_sqrt\n",
    "    num_values_row = num_values_col\n",
    "    rearranged_weights = np.zeros((num_values_col, num_values_row))\n",
    "    connMatrix = np.zeros((input_dim, n_e))\n",
    "    connMatrix[input_synapses.i, input_synapses.j] = input_synapses.w\n",
    "    weight_matrix = np.copy(connMatrix)\n",
    "\n",
    "    for i in xrange(n_e_sqrt):\n",
    "        for j in xrange(n_e_sqrt):\n",
    "                rearranged_weights[i*n_in_sqrt : (i+1)*n_in_sqrt, j*n_in_sqrt : (j+1)*n_in_sqrt] = \\\n",
    "                    weight_matrix[:, i + j*n_e_sqrt].reshape((n_in_sqrt, n_in_sqrt))\n",
    "    return rearranged_weights\n",
    "\n",
    "\n",
    "# Will probs use the connection list name system so here is a fun from [1]\n",
    "def normalize_weights():\n",
    "    for connName in connections:\n",
    "        if connName[1] == 'e' and connName[3] == 'e':\n",
    "            connection = connections[connName][:]\n",
    "            temp_conn = np.copy(connection)\n",
    "            colSums = np.sum(temp_conn, axis = 0)\n",
    "            colFactors = weight['ee_input']/colSums\n",
    "            for j in range(n_e):#\n",
    "                connection[:,j] *= colFactors[j]\n",
    "                \n"
   ]
  },
  {
   "cell_type": "markdown",
   "id": "d96f25f2",
   "metadata": {},
   "source": [
    "## Loading data into np arrays"
   ]
  },
  {
   "cell_type": "code",
   "execution_count": 54,
   "id": "4df4cbbc",
   "metadata": {},
   "outputs": [],
   "source": [
    "# specify the location of the data\n",
    "notebook_path = os.path.abspath(\"BRIAN_DIEHL_COOK_2015.ipynb\")\n",
    "touch_data_vec_path = os.path.join(os.path.dirname(notebook_path), \"Datasets\\\\Vector-data-of-A-Z\\\\\")\n",
    "\n",
    "start = time.time()\n",
    "training = get_labeled_touch_vec_data(1,19,touch_data_vec_path)\n",
    "end = time.time()\n",
    "#print('time needed to load training set:', end - start)\n",
    " \n",
    "start = time.time()\n",
    "testing = get_labeled_touch_vec_data(20,20,touch_data_vec_path)\n",
    "end = time.time()\n",
    "#print('time needed to load test set:', end - start)\n"
   ]
  },
  {
   "cell_type": "markdown",
   "id": "b5023439",
   "metadata": {},
   "source": [
    "## Setting parameters and equations for neuronal behaviour"
   ]
  },
  {
   "cell_type": "code",
   "execution_count": 55,
   "id": "4d4fb9c3",
   "metadata": {},
   "outputs": [],
   "source": [
    "# For using numpy directly for simulation instead of C++ codegen\n",
    "prefs.codegen.target = 'numpy'\n",
    "\n",
    "input_dim = 5\n",
    "epoch_num = 100 #100 chosen to be in a similar order of magnitude as the number of training samples used in [1] (3 epochs (passes) of 60000 sized MNIST data)\n",
    "sample_count = (26 * 19) * epoch_num #(26 letters per trial, 19 trials)\n",
    "n_e = 400 # excitatory neuron count in [1]: 400\n",
    "n_i = n_e\n",
    "input_sample_time = 350*ms\n",
    "inter_input_time = 150*ms\n",
    "sample_time = (input_sample_time + inter_input_time)\n",
    "full_runtime = sample_time * sample_count\n",
    "\n",
    "\n",
    "# These values just taken from [1]\n",
    "v_rest_e = -65. * mV \n",
    "v_rest_i = -60. * mV \n",
    "v_reset_e = -65. * mV\n",
    "v_reset_i = -45. * mV\n",
    "v_thresh_e = -52. * mV\n",
    "v_thresh_i = -40. * mV\n",
    "refrac_e = 5. * ms\n",
    "refrac_i = 2. * ms\n",
    "\n",
    "# [1] also had these values, not sure what they're used for @29.6.2023\n",
    "update_interval = 100 #was 10000 in [1]\n",
    "weight_update_interval = 26 #\n",
    "\n",
    "\n",
    "weight = {}\n",
    "delay = {}\n",
    "weight['ee_input'] = 78. # I'll see how I do it, but in the original implementation I understood that this value keeps the column sum of weights nigh 78 via the \n",
    "                         # normalize_weights() function\n",
    "delay['ee_input'] = (0*ms,10*ms) \n",
    "delay['ei_input'] = (0*ms,5*ms) #This one isn't used currently\n",
    "\n",
    "input_intensity = 64. #maximum Hz of input\n",
    "\n",
    "\n",
    "tc_pre_ee = 20*ms\n",
    "tc_post_1_ee = 20*ms\n",
    "tc_post_2_ee = 40*ms\n",
    "nu_ee_pre =  0.0001      # Change in weight w/ learning\n",
    "nu_ee_post = 0.01        # Change in weight w/ learning\n",
    "wmax_ee = 1.0\n",
    "exp_ee_pre = 0.2\n",
    "exp_ee_post = exp_ee_pre\n",
    "STDP_offset = 0.4 \n",
    "\n",
    "## Reset stuff\n",
    "theta_plus_e = 0.05 * mV\n",
    "e_reset_str = 'v = v_reset_e; theta += theta_plus_e; timer = 0*ms'\n",
    "i_reset_str = 'v=v_reset_i'\n",
    "\n",
    "## threshold voltages\n",
    "offset = 20.*mV\n",
    "e_thresh_str = '(v>(theta - offset + v_thresh_e )) and (timer>refrac_e)' # I don't recall the raison d'etre of offset in the architecture\n",
    "i_thresh_str = 'v>v_thresh_i'\n",
    "\n",
    "\n",
    "#Equations for processing neural layers\n",
    "tc_theta = 1e7 * ms #time constant for theta\n",
    "eqs_e = '''\n",
    "        dv/dt = ((v_rest_e - v) + (I_synE+I_synI) / nS) / (100*ms)  : volt (unless refractory)\n",
    "        I_synE = ge * nS *         -v                               : amp\n",
    "        I_synI = gi * nS * (-100.*mV-v)                             : amp\n",
    "        dge/dt = -ge/(1.0*ms)                                       : 1\n",
    "        dgi/dt = -gi/(2.0*ms)                                       : 1\n",
    "        dtheta/dt = -theta / (tc_theta)  : volt\n",
    "        dtimer/dt = 0.1  : second\n",
    "        '''\n",
    "\n",
    "eqs_i = '''\n",
    "        dv/dt = ((v_rest_i - v) + (I_synE+I_synI) / nS) / (10*ms)  : volt (unless refractory)\n",
    "        I_synE = ge * nS *         -v                              : amp\n",
    "        I_synI = gi * nS * (-85.*mV-v)                             : amp\n",
    "        dge/dt = -ge/(1.0*ms)                                      : 1\n",
    "        dgi/dt = -gi/(2.0*ms)                                      : 1\n",
    "        '''\n",
    "\n",
    "\n",
    "#For excitatory to excitatory connection, in this case from input to excitatory neurons\n",
    "eqs_stdp_ee = '''\n",
    "                post2before                            : 1\n",
    "                dpre/dt   =  -pre/(tc_pre_ee)         : 1 (event-driven)\n",
    "                dpost1/dt  = -post1/(tc_post_1_ee)     : 1 (event-driven)\n",
    "                dpost2/dt  = -post2/(tc_post_2_ee)     : 1 (event-driven)\n",
    "            '''\n",
    "eqs_stdp_pre_ee = 'pre = 1.; w = clip(w + nu_ee_pre * post1, 0, wmax_ee)'\n",
    "eqs_stdp_post_ee = 'post2before = post2; w = clip(w + nu_ee_post * pre * post2before, 0, wmax_ee); post1 = 1.; post2 = 1.'\n",
    "\n",
    "\n",
    "\n",
    "plt.ion() # Interactive mode on\n",
    "fig_num = 1 #?\n",
    "result_monitor = np.zeros((update_interval,n_e))\n",
    "\n"
   ]
  },
  {
   "cell_type": "markdown",
   "id": "e3d7aa3a",
   "metadata": {},
   "source": [
    "## Creation of network objects"
   ]
  },
  {
   "cell_type": "code",
   "execution_count": 56,
   "id": "deb404a3",
   "metadata": {},
   "outputs": [],
   "source": [
    "#Create neuron groups\n",
    "e_neurons = NeuronGroup(n_e, eqs_e, threshold= e_thresh_str, refractory= refrac_e, reset= e_reset_str, method='euler')\n",
    "i_neurons = NeuronGroup(n_i, eqs_i, threshold= i_thresh_str, refractory= refrac_i, reset= i_reset_str, method='euler')\n",
    "\n",
    "#set start voltages\n",
    "e_neurons.v = v_rest_e - 40*mV\n",
    "i_neurons.v = v_rest_e - 40*mV\n",
    "\n",
    "#set theta values\n",
    "e_neurons.theta = np.ones((n_e)) * 20.*mV\n",
    "\n",
    "## Create connections between the excitatory and inhibitory neurons\n",
    "# First excitatory to inhibitory synapses\n",
    "e_weightMatrix = np.random.rand(n_e, n_i)\n",
    "model = 'w : 1'\n",
    "pre = 'ge_post += w'\n",
    "post = ''\n",
    "\n",
    "ei_synapses = Synapses(e_neurons, i_neurons, model=model, on_pre=pre, on_post=post)\n",
    "ei_synapses.connect(True) #Creates all-to-all connection\n",
    "ei_synapses.w = e_weightMatrix[ei_synapses.i, ei_synapses.j] #.i and .j refer to the pre and post neuron in the synapse\n",
    "\n",
    "\n",
    "# inhibitory to excitatory synapses\n",
    "pre = 'gi_post += w'\n",
    "i_weightMatrix = np.random.rand(n_e, n_i)\n",
    "\n",
    "ie_synapses = Synapses(i_neurons, e_neurons, model=model, on_pre=pre, on_post=post)\n",
    "ie_synapses.connect(True) #Creates all-to-all connection\n",
    "ie_synapses.w = i_weightMatrix[ei_synapses.i, ei_synapses.j] #.i and .j refer to the pre and post neuron in the synapse\n",
    "\n",
    "\n",
    "### The creation of Poisson inputs from vec data\n",
    "input_weightMatrix = np.random.rand(input_dim, n_e) #initially random weights\n",
    "input_neurons = PoissonGroup(5, 0*Hz)\n",
    "\n",
    "\n",
    "# creation of synapse from input to excitatory\n",
    "model = 'w : 1' + eqs_stdp_ee\n",
    "pre = 'ge_post += w; ' + eqs_stdp_pre_ee\n",
    "post = eqs_stdp_post_ee\n",
    "\n",
    "input_synapses = Synapses(input_neurons, e_neurons, model=model, on_pre=pre, on_post=post)\n",
    "\n",
    "min_delay = delay['ee_input'][0]\n",
    "max_delay = delay['ee_input'][1]\n",
    "delta_delay = max_delay - min_delay\n",
    "# TODO: test this ## That was note from brian2 translator, I wonder why, hmm\n",
    "\n",
    "input_synapses.connect(True) # all-to-all connection\n",
    "input_synapses.delay = 'min_delay + rand() * delta_delay'\n",
    "input_synapses.w = input_weightMatrix[input_synapses.i, input_synapses.j]\n",
    "\n",
    "\n",
    "### Creation of monitors\n",
    "e_rate_monitor = PopulationRateMonitor(e_neurons)\n",
    "i_rate_monitor = PopulationRateMonitor(i_neurons)\n",
    "e_spike_monitor = SpikeMonitor(e_neurons)\n",
    "i_spike_monitor = SpikeMonitor(i_neurons)\n",
    "input_rate_monitor = PopulationRateMonitor(input_neurons)"
   ]
  },
  {
   "cell_type": "markdown",
   "id": "24eeb3cd",
   "metadata": {},
   "source": [
    "## Running the simulation"
   ]
  },
  {
   "cell_type": "code",
   "execution_count": 50,
   "id": "9706baf6",
   "metadata": {},
   "outputs": [
    {
     "ename": "KeyError",
     "evalue": "'data'",
     "output_type": "error",
     "traceback": [
      "\u001b[1;31m---------------------------------------------------------------------------\u001b[0m",
      "\u001b[1;31mKeyError\u001b[0m                                  Traceback (most recent call last)",
      "Cell \u001b[1;32mIn[50], line 7\u001b[0m\n\u001b[0;32m      4\u001b[0m outputNumbers \u001b[38;5;241m=\u001b[39m np\u001b[38;5;241m.\u001b[39mzeros((sample_count, \u001b[38;5;241m10\u001b[39m))\n\u001b[0;32m      6\u001b[0m \u001b[38;5;28;01mfor\u001b[39;00m j \u001b[38;5;129;01min\u001b[39;00m \u001b[38;5;28mrange\u001b[39m(sample_count):\n\u001b[1;32m----> 7\u001b[0m     spike_rates \u001b[38;5;241m=\u001b[39m \u001b[43mtraining\u001b[49m\u001b[43m[\u001b[49m\u001b[38;5;124;43m'\u001b[39;49m\u001b[38;5;124;43mdata\u001b[39;49m\u001b[38;5;124;43m'\u001b[39;49m\u001b[43m]\u001b[49m[j\u001b[38;5;241m%\u001b[39m(\u001b[38;5;241m19\u001b[39m\u001b[38;5;241m*\u001b[39m\u001b[38;5;241m26\u001b[39m),:] \u001b[38;5;241m*\u001b[39m  input_intensity\n\u001b[0;32m      8\u001b[0m     input_neurons\u001b[38;5;241m.\u001b[39mrates \u001b[38;5;241m=\u001b[39m spike_rates \u001b[38;5;241m*\u001b[39m Hz\n\u001b[0;32m     10\u001b[0m     run(sample_time, report\u001b[38;5;241m=\u001b[39m\u001b[38;5;124m'\u001b[39m\u001b[38;5;124mtext\u001b[39m\u001b[38;5;124m'\u001b[39m)\n",
      "\u001b[1;31mKeyError\u001b[0m: 'data'"
     ]
    }
   ],
   "source": [
    "previous_spike_count = np.zeros(n_e)\n",
    "assignments = np.zeros(n_e)\n",
    "input_numbers = [0] * sample_count\n",
    "outputNumbers = np.zeros((sample_count, 10))\n",
    "\n",
    "for j in range(sample_count):\n",
    "    spike_rates = training['data'][j%(19*26),:] *  input_intensity\n",
    "    input_neurons.rates = spike_rates * Hz\n",
    "    \n",
    "    normalize_weights()\n",
    "    run(sample_time, report='text')\n",
    "\n",
    "\n",
    "# Unimportant plotting (a lot more where that came from)\n",
    "# fig_num, input_weight_fig, fig_weights = plot_2d_input_weights(fig_num)\n",
    "\n",
    "# this thing is in the original code before the loop, no idea why \n",
    "# for i,name in enumerate(input_population_names):\n",
    "#     input_groups[name+'e'].rates = 0 * Hz\n",
    "# net.run(0*second)\n",
    "\n"
   ]
  },
  {
   "cell_type": "code",
   "execution_count": 35,
   "id": "cb7fbf2b",
   "metadata": {},
   "outputs": [
    {
     "data": {
      "image/png": "[encoded data removed]",
      "text/plain": [
       "<Figure size 640x480 with 1 Axes>"
      ]
     },
     "metadata": {},
     "output_type": "display_data"
    }
   ],
   "source": [
    "# plotting stuff\n",
    "# example spiking for one input\n",
    "brian_plot(input_monitor).set_title('poisson input example spikes');"
   ]
  },
  {
   "cell_type": "markdown",
   "id": "d6dce5f2",
   "metadata": {},
   "source": [
    "address these questions:\n",
    "\n",
    "- Raison d'etre of offset in the architecture\n",
    "- STDP_offset does what exactly\n",
    "- check what exactly True means as a parameter in ```Synapses().connect(True)```\n",
    "- is the fig_num parameter doing anything\n",
    "\n",
    "\n",
    "\n",
    "\n",
    "\n",
    "\n",
    "\n",
    "Random thoughts:\n",
    "- Connect multiple modalities of inputs to each other. That sounds really good and something that can be done pretty soon after I get this done"
   ]
  }
 ],
 "metadata": {
  "kernelspec": {
   "display_name": "Python 3 (ipykernel)",
   "language": "python",
   "name": "python3"
  },
  "language_info": {
   "codemirror_mode": {
    "name": "ipython",
    "version": 3
   },
   "file_extension": ".py",
   "mimetype": "text/x-python",
   "name": "python",
   "nbconvert_exporter": "python",
   "pygments_lexer": "ipython3",
   "version": "3.10.9"
  }
 },
 "nbformat": 4,
 "nbformat_minor": 5
}
